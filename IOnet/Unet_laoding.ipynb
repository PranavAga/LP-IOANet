{
 "cells": [
  {
   "cell_type": "code",
   "execution_count": 1,
   "metadata": {},
   "outputs": [
    {
     "name": "stderr",
     "output_type": "stream",
     "text": [
      "c:\\Program Files\\Python311\\Lib\\site-packages\\tqdm\\auto.py:21: TqdmWarning: IProgress not found. Please update jupyter and ipywidgets. See https://ipywidgets.readthedocs.io/en/stable/user_install.html\n",
      "  from .autonotebook import tqdm as notebook_tqdm\n"
     ]
    }
   ],
   "source": [
    "# import lib\n",
    "import numpy as np\n",
    "import matplotlib.pyplot as plt\n",
    "import pandas as pd\n",
    "import math\n",
    "import tqdm\n",
    "# from tqdm.auto import trange, tqdm\n",
    "import os\n",
    "\n",
    "# import pytorch\n",
    "import torch\n",
    "import torch.nn as nn\n",
    "import torch.nn.functional as F\n",
    "import torch.optim as optim\n",
    "from torch.utils.data import DataLoader, Dataset\n",
    "\n",
    "# to get CFIAR10 dataset\n",
    "from torchvision import transforms\n",
    "import torchvision\n",
    "import torchvision.transforms as transforms\n",
    "\n",
    "# to import pretrained models\n",
    "from transformers import AutoImageProcessor, MobileNetV1Model\n",
    "import timm\n",
    "\n",
    "# import sklearn\n",
    "from sklearn.model_selection import train_test_split\n",
    "from PIL import Image\n",
    "\n",
    "\n",
    "# set up device\n",
    "device = torch.device(\"cuda\" if torch.cuda.is_available() else \"cpu\")"
   ]
  },
  {
   "cell_type": "code",
   "execution_count": 2,
   "metadata": {},
   "outputs": [],
   "source": [
    "from get_layers import get_encoder_layers, get_decoder_layers"
   ]
  },
  {
   "cell_type": "markdown",
   "metadata": {},
   "source": [
    "---\n",
    "## Unet architecture"
   ]
  },
  {
   "cell_type": "code",
   "execution_count": 3,
   "metadata": {},
   "outputs": [],
   "source": [
    "from model import UnetWithoutAT\n",
    "\n",
    "unet = UnetWithoutAT()"
   ]
  },
  {
   "cell_type": "code",
   "execution_count": 4,
   "metadata": {},
   "outputs": [
    {
     "name": "stdout",
     "output_type": "stream",
     "text": [
      "torch.Size([1, 3, 225, 321])\n"
     ]
    }
   ],
   "source": [
    "# random input\n",
    "x = torch.randn(1, 3, 224, 320)\n",
    "\n",
    "# forward pass\n",
    "y = unet(x)\n",
    "\n",
    "# print output shape\n",
    "print(y.shape)"
   ]
  },
  {
   "cell_type": "code",
   "execution_count": 5,
   "metadata": {},
   "outputs": [],
   "source": [
    "# now load the model\n",
    "from utils import load_img_to_tensor, visualize_tensor_images\n",
    "# load images \n",
    "input_tensor = load_img_to_tensor(\"../test/input/\")\n",
    "\n",
    "# print(\"Input tensor shape: \", input_tensor)"
   ]
  },
  {
   "cell_type": "code",
   "execution_count": 6,
   "metadata": {},
   "outputs": [
    {
     "ename": "NameError",
     "evalue": "name 'asdfgfads' is not defined",
     "output_type": "error",
     "traceback": [
      "\u001b[1;31m---------------------------------------------------------------------------\u001b[0m",
      "\u001b[1;31mNameError\u001b[0m                                 Traceback (most recent call last)",
      "Cell \u001b[1;32mIn[6], line 1\u001b[0m\n\u001b[1;32m----> 1\u001b[0m \u001b[43masdfgfads\u001b[49m\n\u001b[0;32m      2\u001b[0m \u001b[38;5;66;03m# Print input tensor shape\u001b[39;00m\n\u001b[0;32m      3\u001b[0m \u001b[38;5;28mprint\u001b[39m(\u001b[38;5;28mtype\u001b[39m(input_tensor))\n",
      "\u001b[1;31mNameError\u001b[0m: name 'asdfgfads' is not defined"
     ]
    }
   ],
   "source": [
    "asdfgfads\n",
    "# Print input tensor shape\n",
    "print(type(input_tensor))\n",
    "print(\"Input tensor shape:\", input_tensor.shape)\n",
    "\n",
    "# Visualize the first input image\n",
    "visualize_tensor_images(input_tensor[0], title=\"Input Image\")\n",
    "\n",
    "# Pass input tensor through the UNet model\n",
    "out_img = unet(input_tensor[0].reshape(1, 3, input_tensor.shape[2], input_tensor.shape[3]))\n",
    "\n",
    "# Print output tensor shape\n",
    "print(\"Output tensor shape:\", out_img.shape)\n",
    "\n",
    "# Visualize the output image\n",
    "visualize_tensor_images(out_img[0], title=\"Output Image\")"
   ]
  },
  {
   "cell_type": "code",
   "execution_count": null,
   "metadata": {},
   "outputs": [],
   "source": [
    "# def visualize_tensor_images(tensor, title=\"Tensor\", cmap=None):\n",
    "# \t\"\"\"\n",
    "# \tVisualizes a tensor as an image. shape = (3, H, W)\n",
    "# \t\"\"\"\n",
    "# \ttensor_np = tensor.detach().cpu().numpy()  # Convert tensor to numpy array\n",
    "# \tplt.imshow(np.transpose(tensor_np, (1, 2, 0)), cmap=cmap)  # Transpose dimensions for imshow\n",
    "# \tplt.title(title)\n",
    "# \tplt.axis(\"off\")\n",
    "# \tplt.show()"
   ]
  },
  {
   "cell_type": "code",
   "execution_count": null,
   "metadata": {},
   "outputs": [],
   "source": [
    "# # Load an image with path\n",
    "# image_path = \"..\\\\test\\\\input\\\\IMG_0106.png\"\n",
    "\n",
    "# # Load image\n",
    "# image = Image.open(image_path)\n",
    "\n",
    "# # Show original image\n",
    "# plt.imshow(image)\n",
    "# plt.title(\"Original Image\")\n",
    "# plt.axis(\"off\")\n",
    "# plt.show()\n",
    "\n",
    "# # Preprocess image\n",
    "# preprocessed_image = image_processor(image)['pixel_values'][0]\n",
    "\n",
    "# # Transpose the NumPy array\n",
    "# # preprocessed_image = preprocessed_image.transpose((1, 2, 0))\n",
    "\n",
    "# print(\"Preprocessed image shape: \", preprocessed_image.shape)\n",
    "\n",
    "# # Show preprocessed image\n",
    "# plt.imshow(preprocessed_image.transpose((1, 2, 0)))\n",
    "# plt.title(\"Preprocessed Image\")\n",
    "# plt.axis(\"off\")\n",
    "# plt.show()"
   ]
  },
  {
   "cell_type": "code",
   "execution_count": null,
   "metadata": {},
   "outputs": [],
   "source": [
    "# class Unet(nn.Module):\n",
    "# \tdef __init__(self):\n",
    "# \t\t'''\n",
    "# \t\t\tUnet model\n",
    "# \t\t'''\n",
    "# \t\tsuper(Unet, self).__init__()\n",
    "# \t\t# get encoder layers\n",
    "# \t\tencoder_blocks, image_stem_layer, image_processor = get_encoder_layers()\n",
    "# \t\t# get decoder layers\n",
    "# \t\tdecoder_blocks = get_decoder_layers()\n",
    "\t\t\n",
    "# \t\t# print(len(encoder_blocks))\n",
    "# \t\t# print(len(decoder_blocks))\n",
    "\t\t\n",
    "# \t\tself.en1 = encoder_blocks[0]\n",
    "# \t\tself.en2 = encoder_blocks[1]\n",
    "# \t\tself.en3 = encoder_blocks[2]\n",
    "# \t\tself.en4 = encoder_blocks[3]\n",
    "# \t\tself.en5 = encoder_blocks[4]\n",
    "\t\t\n",
    "# \t\tself.de1 = decoder_blocks[0]\n",
    "# \t\tself.de2 = decoder_blocks[1]\n",
    "# \t\tself.de3 = decoder_blocks[2]\n",
    "# \t\tself.de4 = decoder_blocks[3]\n",
    "# \t\tself.de5 = decoder_blocks[4]\n",
    "\t\t\n",
    "# \t\tself.encoder_blocks = [\n",
    "# \t\t\tself.en1,\n",
    "# \t\t\tself.en2,\n",
    "# \t\t\tself.en3,\n",
    "# \t\t\tself.en4,\n",
    "# \t\t\tself.en5\n",
    "# \t\t]\n",
    "\t\t\n",
    "# \t\tself.decoder_blocks = [\n",
    "# \t\t\tself.de1,\n",
    "# \t\t\tself.de2,\n",
    "# \t\t\tself.de3,\t\n",
    "# \t\t\tself.de4,\n",
    "# \t\t\tself.de5\n",
    "# \t\t]\n",
    "  \n",
    "# \t\tself.image_processor = image_processor\n",
    "\t\t\n",
    "# \t\tself.image_stem_layer = image_stem_layer\n",
    "# \t\tself.out_image_stem_layer = nn.Sequential(\n",
    "# \t\t\tnn.ConvTranspose2d(32,3, kernel_size=3, stride=2, bias=False),\n",
    "# \t\t\tnn.BatchNorm2d(3, eps=0.001, momentum=0.9997, affine=True, track_running_stats=True),\n",
    "# \t\t\tnn.ReLU()\n",
    "# \t\t)\n",
    "\t\t\n",
    "# \tdef forward(self, x, process_image = False):\n",
    "# \t\t'''\n",
    "# \t\t\tForward pass\n",
    "# \t\t\tx: input image (ideally should be of shape (batch_size, 3, 224, 224))\n",
    "# \t\t\tprocess_image: whether to process image or not to the appropriate size\n",
    "# \t\t'''\n",
    "# \t\t# asset x is a tensor\n",
    "# \t\tassert isinstance(x, torch.Tensor), \"Input should be a tensor\"\n",
    "# \t\tif process_image:\n",
    "# \t\t\tnew_x = []\n",
    "# \t\t\tfor img in x:\n",
    "# \t\t\t\timg = self.image_processor(img)['pixel_values'][0]\n",
    "# \t\t\t\tnew_x.append(img)\n",
    "# \t\t\tx = torch.stack(new_x)\n",
    "# \t\t\tx = x.permute(0, 3, 1, 2)\n",
    "\t\t\t\n",
    "# \t\t# assetion to check if the image is of the right size\n",
    "# \t\tassert x.shape[2] == 224 and x.shape[3] == 224, \"Image size should be 224x224\"\n",
    "\t\t\n",
    "# \t\tx = self.image_stem_layer(x)\n",
    "# \t\tprint(\"Image stem layer output shape: \", x.shape)\n",
    "\t\t\n",
    "# \t\tenc_outputs = []\n",
    "# \t\t# run on each encoder block\n",
    "# \t\tfor indx, enc_block in enumerate(self.encoder_blocks):\n",
    "# \t\t\tx = enc_block(x)\n",
    "# \t\t\tenc_outputs.append(x)\n",
    "# \t\t\tprint(f\"Encoder block {indx} | output shape: {x.shape}\")\n",
    "\t\t\t\n",
    "# \t\t# last encoder block to dec \n",
    "# \t\t# print input and output shapes\n",
    "# \t\t# print(\"\\nLast encoder block output shape: \", x.shape)\n",
    "# \t\t# print()\n",
    "\t\t\n",
    "# \t\tfor indx, dec_block in enumerate(self.decoder_blocks):\n",
    "# \t\t\tif indx == 0:\n",
    "# \t\t\t\tx = dec_block(x)\n",
    "# \t\t\t\tprint(f\"Decoder block {indx} | output shape: {x.shape}\")\n",
    "# \t\t\telse:\n",
    "# \t\t\t\tx = dec_block(torch.cat([x, enc_outputs[len(self.decoder_blocks) - indx - 1]], dim=1))\n",
    "# \t\t\t\tprint(f\"Decoder block {indx} | output shape: {x.shape}\")\n",
    "\t\t\n",
    "# \t\treturn self.out_image_stem_layer(x)"
   ]
  }
 ],
 "metadata": {
  "kernelspec": {
   "display_name": "Python 3",
   "language": "python",
   "name": "python3"
  },
  "language_info": {
   "codemirror_mode": {
    "name": "ipython",
    "version": 3
   },
   "file_extension": ".py",
   "mimetype": "text/x-python",
   "name": "python",
   "nbconvert_exporter": "python",
   "pygments_lexer": "ipython3",
   "version": "3.11.3"
  }
 },
 "nbformat": 4,
 "nbformat_minor": 2
}
