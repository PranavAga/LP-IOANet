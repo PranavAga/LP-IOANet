{
 "cells": [
  {
   "cell_type": "code",
   "execution_count": 53,
   "metadata": {},
   "outputs": [],
   "source": [
    "# import lib\n",
    "import numpy as np\n",
    "import matplotlib.pyplot as plt\n",
    "import pandas as pd\n",
    "import math\n",
    "import tqdm\n",
    "from tqdm.auto import trange, tqdm\n",
    "import os\n",
    "\n",
    "# import pytorch\n",
    "import torch\n",
    "import torch.nn as nn\n",
    "import torch.nn.functional as F\n",
    "import torch.optim as optim\n",
    "from torch.utils.data import DataLoader, Dataset\n",
    "\n",
    "# to get CFIAR10 dataset\n",
    "from torchvision import transforms\n",
    "import torchvision\n",
    "import torchvision.transforms as transforms\n",
    "\n",
    "# to import pretrained models\n",
    "from transformers import AutoImageProcessor, MobileNetV1Model\n",
    "import timm\n",
    "\n",
    "# import sklearn\n",
    "from sklearn.model_selection import train_test_split\n",
    "from PIL import Image\n",
    "\n",
    "\n",
    "# set up device\n",
    "device = torch.device(\"cuda\" if torch.cuda.is_available() else \"cpu\")"
   ]
  },
  {
   "cell_type": "markdown",
   "metadata": {},
   "source": [
    "---\n",
    "## Encoder layer"
   ]
  },
  {
   "cell_type": "code",
   "execution_count": 2,
   "metadata": {},
   "outputs": [
    {
     "name": "stdout",
     "output_type": "stream",
     "text": [
      "Encoder blocks len:  5\n",
      "Image stem layer:  MobileNetV1ConvLayer(\n",
      "  (convolution): Conv2d(3, 32, kernel_size=(3, 3), stride=(2, 2), bias=False)\n",
      "  (normalization): BatchNorm2d(32, eps=0.001, momentum=0.9997, affine=True, track_running_stats=True)\n",
      "  (activation): ReLU6()\n",
      ")\n",
      "Image processor:  MobileNetV1ImageProcessor {\n",
      "  \"_valid_processor_keys\": [\n",
      "    \"images\",\n",
      "    \"do_resize\",\n",
      "    \"size\",\n",
      "    \"resample\",\n",
      "    \"do_center_crop\",\n",
      "    \"crop_size\",\n",
      "    \"do_rescale\",\n",
      "    \"rescale_factor\",\n",
      "    \"do_normalize\",\n",
      "    \"image_mean\",\n",
      "    \"image_std\",\n",
      "    \"return_tensors\",\n",
      "    \"data_format\",\n",
      "    \"input_data_format\"\n",
      "  ],\n",
      "  \"crop_size\": {\n",
      "    \"height\": 224,\n",
      "    \"width\": 224\n",
      "  },\n",
      "  \"do_center_crop\": true,\n",
      "  \"do_normalize\": true,\n",
      "  \"do_rescale\": true,\n",
      "  \"do_resize\": true,\n",
      "  \"image_mean\": [\n",
      "    0.5,\n",
      "    0.5,\n",
      "    0.5\n",
      "  ],\n",
      "  \"image_processor_type\": \"MobileNetV1ImageProcessor\",\n",
      "  \"image_std\": [\n",
      "    0.5,\n",
      "    0.5,\n",
      "    0.5\n",
      "  ],\n",
      "  \"resample\": 2,\n",
      "  \"rescale_factor\": 0.00392156862745098,\n",
      "  \"size\": {\n",
      "    \"shortest_edge\": 256\n",
      "  }\n",
      "}\n",
      "\n"
     ]
    }
   ],
   "source": [
    "from get_layers import get_encoder_layers\n",
    "\n",
    "# get encoder layers\n",
    "encoder_blocks, image_stem_layer, image_processor = get_encoder_layers()\n",
    "\n",
    "print(\"Encoder blocks len: \", len(encoder_blocks))\n",
    "print(\"Image stem layer: \", image_stem_layer)\n",
    "print(\"Image processor: \", image_processor)"
   ]
  },
  {
   "cell_type": "markdown",
   "metadata": {},
   "source": [
    "---\n",
    "## Decoder layer"
   ]
  },
  {
   "cell_type": "code",
   "execution_count": 3,
   "metadata": {},
   "outputs": [
    {
     "name": "stdout",
     "output_type": "stream",
     "text": [
      "Alert: skip connection is not implemented in the decoder block\n"
     ]
    },
    {
     "data": {
      "text/plain": [
       "DecoderBlock(\n",
       "  (relu): ReLU(inplace=True)\n",
       "  (cnn1): Conv2d(512, 1536, kernel_size=(1, 1), stride=(1, 1))\n",
       "  (bnn1): BatchNorm2d(1536, eps=1e-05, momentum=0.1, affine=True, track_running_stats=True)\n",
       "  (upsample): Upsample(scale_factor=2.0, mode='nearest')\n",
       "  (cnn2): Conv2d(1536, 1536, kernel_size=(5, 5), stride=(1, 1), padding=(2, 2))\n",
       "  (bnn2): BatchNorm2d(1536, eps=1e-05, momentum=0.1, affine=True, track_running_stats=True)\n",
       "  (cnn3): Conv2d(1536, 256, kernel_size=(1, 1), stride=(1, 1))\n",
       "  (bnn3): BatchNorm2d(256, eps=1e-05, momentum=0.1, affine=True, track_running_stats=True)\n",
       ")"
      ]
     },
     "execution_count": 3,
     "metadata": {},
     "output_type": "execute_result"
    }
   ],
   "source": [
    "from get_layers import DecoderBlock\n",
    "\n",
    "dec90 = DecoderBlock(512, 256)\n",
    "\n",
    "dec90"
   ]
  },
  {
   "cell_type": "code",
   "execution_count": 16,
   "metadata": {},
   "outputs": [
    {
     "name": "stdout",
     "output_type": "stream",
     "text": [
      "Alert: skip connection is not implemented in the decoder block\n",
      "Alert: skip connection is not implemented in the decoder block\n",
      "Alert: skip connection is not implemented in the decoder block\n",
      "Alert: skip connection is not implemented in the decoder block\n",
      "Alert: skip connection is not implemented in the decoder block\n"
     ]
    }
   ],
   "source": [
    "def get_decoder_blocks(out_sizes = [512, 256, 128, 64, 32]):\n",
    "    decoder_blocks = []\n",
    "    for i, out_size in enumerate(out_sizes):\n",
    "        if i == 0:\n",
    "            decoder_blocks.append(DecoderBlock(out_size*2 , out_size))\n",
    "        else:\n",
    "            decoder_blocks.append(DecoderBlock(out_size*4 , out_size))\n",
    "    return decoder_blocks\n",
    "\n",
    "decoder_blocks = get_decoder_blocks()"
   ]
  },
  {
   "cell_type": "code",
   "execution_count": 19,
   "metadata": {},
   "outputs": [
    {
     "name": "stdout",
     "output_type": "stream",
     "text": [
      "Decoder block 0: 1024 -> 512\n",
      "Decoder block 1: 1024 -> 256\n",
      "Decoder block 2: 512 -> 128\n",
      "Decoder block 3: 256 -> 64\n",
      "Decoder block 4: 128 -> 32\n"
     ]
    }
   ],
   "source": [
    "# print in and out channels of each decoder block\n",
    "for i, block in enumerate(decoder_blocks):\n",
    "    print(f\"Decoder block {i}: {block.cnn1.in_channels} -> {block.cnn3.out_channels}\")"
   ]
  },
  {
   "cell_type": "markdown",
   "metadata": {},
   "source": [
    "---\n",
    "## Unet architecture"
   ]
  },
  {
   "cell_type": "code",
   "execution_count": 57,
   "metadata": {},
   "outputs": [],
   "source": [
    "class Unet(nn.Module):\n",
    "    def __init__(self):\n",
    "        '''\n",
    "\t        Unet model\n",
    "        '''\n",
    "        super(Unet, self).__init__()\n",
    "        # get encoder layers\n",
    "        encoder_blocks, image_stem_layer, image_processor = get_encoder_layers()\n",
    "        # get decoder layers\n",
    "        decoder_blocks = get_decoder_blocks()\n",
    "        \n",
    "        self.encoder_blocks = encoder_blocks\n",
    "        self.image_stem_layer = image_stem_layer\n",
    "        self.image_processor = image_processor\n",
    "        \n",
    "        self.decoder_blocks = decoder_blocks\n",
    "        \n",
    "    def forward(self, x, process_image = False):\n",
    "        '''\n",
    "\t        Forward pass\n",
    "\t        x: input image (ideally should be of shape (batch_size, 3, 224, 224))\n",
    "\t\t\tprocess_image: whether to process image or not to the appropriate size\n",
    "        '''\n",
    "        # asset x is a tensor\n",
    "        assert isinstance(x, torch.Tensor), \"Input should be a tensor\"\n",
    "        if process_image:\n",
    "            new_x = []\n",
    "            for img in x:\n",
    "                img = self.image_processor(img)['pixel_values'][0]\n",
    "                new_x.append(img)\n",
    "            x = torch.stack(new_x)\n",
    "            x = x.permute(0, 3, 1, 2)\n",
    "            \n",
    "        # assetion to check if the image is of the right size\n",
    "        assert x.shape[2] == 224 and x.shape[3] == 224, \"Image size should be 224x224\"\n",
    "        \n",
    "        x = image_stem_layer(x)\n",
    "        print(\"Image stem layer output shape: \", x.shape)\n",
    "        \n",
    "        enc_outputs = []\n",
    "        # run on each encoder block\n",
    "        for indx, enc_block in enumerate(self.encoder_blocks):\n",
    "            x = enc_block(x)\n",
    "            enc_outputs.append(x)\n",
    "            # print(f\"Encoder block {indx} | output shape: {x.shape}\")\n",
    "            \n",
    "        # last encoder block to dec \n",
    "        # print input and output shapes\n",
    "        # print(\"\\nLast encoder block output shape: \", x.shape)\n",
    "        # print()\n",
    "        \n",
    "        for indx, dec_block in enumerate(self.decoder_blocks):\n",
    "            if indx == 0:\n",
    "                x = dec_block(x)\n",
    "                # print(f\"Decoder block {indx} | output shape: {x.shape}\")\n",
    "            else:\n",
    "                x = dec_block(torch.cat([x, enc_outputs[len(self.decoder_blocks) - indx - 1]], dim=1))\n",
    "                # print(f\"Decoder block {indx} | output shape: {x.shape}\")\n",
    "        \n",
    "        return x"
   ]
  },
  {
   "cell_type": "code",
   "execution_count": 58,
   "metadata": {},
   "outputs": [
    {
     "name": "stdout",
     "output_type": "stream",
     "text": [
      "Alert: skip connection is not implemented in the decoder block\n",
      "Alert: skip connection is not implemented in the decoder block\n",
      "Alert: skip connection is not implemented in the decoder block\n",
      "Alert: skip connection is not implemented in the decoder block\n",
      "Alert: skip connection is not implemented in the decoder block\n",
      "Image stem layer output shape:  torch.Size([1, 32, 112, 112])\n",
      "torch.Size([1, 32, 224, 224])\n"
     ]
    }
   ],
   "source": [
    "unet = Unet()\n",
    "\n",
    "# random input\n",
    "x = torch.randn(1, 3, 224, 224)\n",
    "\n",
    "# forward pass\n",
    "y = unet(x)\n",
    "\n",
    "# print output shape\n",
    "print(y.shape)"
   ]
  },
  {
   "cell_type": "code",
   "execution_count": 59,
   "metadata": {},
   "outputs": [
    {
     "name": "stdout",
     "output_type": "stream",
     "text": [
      "torch.Size([7, 224, 224, 3])\n"
     ]
    }
   ],
   "source": [
    "def load_img_to_tensor(img_dir):\n",
    "    '''\n",
    "        Load image to tensor\n",
    "        img_dir: image directory\n",
    "    '''\n",
    "    # load all the images paths in the directory\n",
    "    img_paths = [img_dir + img for img in os.listdir(img_dir)]\n",
    "    \n",
    "    images = []\n",
    "    # load images to tensor\n",
    "    for img_path in img_paths:\n",
    "        img = Image.open(img_path)\n",
    "        img = img.resize((224, 224))\n",
    "        img = np.array(img)\n",
    "        img = torch.tensor(img)\n",
    "        images.append(img)\n",
    "        \n",
    "    return torch.stack(images)\n",
    "\n",
    "input_img = load_img_to_tensor(\"..\\\\test\\\\input\\\\\")\n",
    "\n",
    "print(input_img.shape)"
   ]
  },
  {
   "cell_type": "code",
   "execution_count": 60,
   "metadata": {},
   "outputs": [
    {
     "name": "stdout",
     "output_type": "stream",
     "text": [
      "Alert: skip connection is not implemented in the decoder block\n",
      "Alert: skip connection is not implemented in the decoder block\n",
      "Alert: skip connection is not implemented in the decoder block\n",
      "Alert: skip connection is not implemented in the decoder block\n",
      "Alert: skip connection is not implemented in the decoder block\n"
     ]
    },
    {
     "ename": "TypeError",
     "evalue": "expected Tensor as element 0 in argument 0, but got numpy.ndarray",
     "output_type": "error",
     "traceback": [
      "\u001b[1;31m---------------------------------------------------------------------------\u001b[0m",
      "\u001b[1;31mTypeError\u001b[0m                                 Traceback (most recent call last)",
      "Cell \u001b[1;32mIn[60], line 5\u001b[0m\n\u001b[0;32m      2\u001b[0m unet \u001b[38;5;241m=\u001b[39m Unet()\n\u001b[0;32m      4\u001b[0m \u001b[38;5;66;03m# send input image to the model\u001b[39;00m\n\u001b[1;32m----> 5\u001b[0m output_img \u001b[38;5;241m=\u001b[39m \u001b[43munet\u001b[49m\u001b[43m(\u001b[49m\u001b[43minput_img\u001b[49m\u001b[43m,\u001b[49m\u001b[43m \u001b[49m\u001b[43mprocess_image\u001b[49m\u001b[43m \u001b[49m\u001b[38;5;241;43m=\u001b[39;49m\u001b[43m \u001b[49m\u001b[38;5;28;43;01mTrue\u001b[39;49;00m\u001b[43m)\u001b[49m\n",
      "File \u001b[1;32mc:\\Program Files\\Python311\\Lib\\site-packages\\torch\\nn\\modules\\module.py:1511\u001b[0m, in \u001b[0;36mModule._wrapped_call_impl\u001b[1;34m(self, *args, **kwargs)\u001b[0m\n\u001b[0;32m   1509\u001b[0m     \u001b[38;5;28;01mreturn\u001b[39;00m \u001b[38;5;28mself\u001b[39m\u001b[38;5;241m.\u001b[39m_compiled_call_impl(\u001b[38;5;241m*\u001b[39margs, \u001b[38;5;241m*\u001b[39m\u001b[38;5;241m*\u001b[39mkwargs)  \u001b[38;5;66;03m# type: ignore[misc]\u001b[39;00m\n\u001b[0;32m   1510\u001b[0m \u001b[38;5;28;01melse\u001b[39;00m:\n\u001b[1;32m-> 1511\u001b[0m     \u001b[38;5;28;01mreturn\u001b[39;00m \u001b[38;5;28;43mself\u001b[39;49m\u001b[38;5;241;43m.\u001b[39;49m\u001b[43m_call_impl\u001b[49m\u001b[43m(\u001b[49m\u001b[38;5;241;43m*\u001b[39;49m\u001b[43margs\u001b[49m\u001b[43m,\u001b[49m\u001b[43m \u001b[49m\u001b[38;5;241;43m*\u001b[39;49m\u001b[38;5;241;43m*\u001b[39;49m\u001b[43mkwargs\u001b[49m\u001b[43m)\u001b[49m\n",
      "File \u001b[1;32mc:\\Program Files\\Python311\\Lib\\site-packages\\torch\\nn\\modules\\module.py:1520\u001b[0m, in \u001b[0;36mModule._call_impl\u001b[1;34m(self, *args, **kwargs)\u001b[0m\n\u001b[0;32m   1515\u001b[0m \u001b[38;5;66;03m# If we don't have any hooks, we want to skip the rest of the logic in\u001b[39;00m\n\u001b[0;32m   1516\u001b[0m \u001b[38;5;66;03m# this function, and just call forward.\u001b[39;00m\n\u001b[0;32m   1517\u001b[0m \u001b[38;5;28;01mif\u001b[39;00m \u001b[38;5;129;01mnot\u001b[39;00m (\u001b[38;5;28mself\u001b[39m\u001b[38;5;241m.\u001b[39m_backward_hooks \u001b[38;5;129;01mor\u001b[39;00m \u001b[38;5;28mself\u001b[39m\u001b[38;5;241m.\u001b[39m_backward_pre_hooks \u001b[38;5;129;01mor\u001b[39;00m \u001b[38;5;28mself\u001b[39m\u001b[38;5;241m.\u001b[39m_forward_hooks \u001b[38;5;129;01mor\u001b[39;00m \u001b[38;5;28mself\u001b[39m\u001b[38;5;241m.\u001b[39m_forward_pre_hooks\n\u001b[0;32m   1518\u001b[0m         \u001b[38;5;129;01mor\u001b[39;00m _global_backward_pre_hooks \u001b[38;5;129;01mor\u001b[39;00m _global_backward_hooks\n\u001b[0;32m   1519\u001b[0m         \u001b[38;5;129;01mor\u001b[39;00m _global_forward_hooks \u001b[38;5;129;01mor\u001b[39;00m _global_forward_pre_hooks):\n\u001b[1;32m-> 1520\u001b[0m     \u001b[38;5;28;01mreturn\u001b[39;00m \u001b[43mforward_call\u001b[49m\u001b[43m(\u001b[49m\u001b[38;5;241;43m*\u001b[39;49m\u001b[43margs\u001b[49m\u001b[43m,\u001b[49m\u001b[43m \u001b[49m\u001b[38;5;241;43m*\u001b[39;49m\u001b[38;5;241;43m*\u001b[39;49m\u001b[43mkwargs\u001b[49m\u001b[43m)\u001b[49m\n\u001b[0;32m   1522\u001b[0m \u001b[38;5;28;01mtry\u001b[39;00m:\n\u001b[0;32m   1523\u001b[0m     result \u001b[38;5;241m=\u001b[39m \u001b[38;5;28;01mNone\u001b[39;00m\n",
      "Cell \u001b[1;32mIn[57], line 31\u001b[0m, in \u001b[0;36mUnet.forward\u001b[1;34m(self, x, process_image)\u001b[0m\n\u001b[0;32m     29\u001b[0m         img \u001b[38;5;241m=\u001b[39m \u001b[38;5;28mself\u001b[39m\u001b[38;5;241m.\u001b[39mimage_processor(img)[\u001b[38;5;124m'\u001b[39m\u001b[38;5;124mpixel_values\u001b[39m\u001b[38;5;124m'\u001b[39m][\u001b[38;5;241m0\u001b[39m]\n\u001b[0;32m     30\u001b[0m         new_x\u001b[38;5;241m.\u001b[39mappend(img)\n\u001b[1;32m---> 31\u001b[0m     x \u001b[38;5;241m=\u001b[39m \u001b[43mtorch\u001b[49m\u001b[38;5;241;43m.\u001b[39;49m\u001b[43mstack\u001b[49m\u001b[43m(\u001b[49m\u001b[43mnew_x\u001b[49m\u001b[43m)\u001b[49m\n\u001b[0;32m     32\u001b[0m     x \u001b[38;5;241m=\u001b[39m x\u001b[38;5;241m.\u001b[39mpermute(\u001b[38;5;241m0\u001b[39m, \u001b[38;5;241m3\u001b[39m, \u001b[38;5;241m1\u001b[39m, \u001b[38;5;241m2\u001b[39m)\n\u001b[0;32m     34\u001b[0m \u001b[38;5;66;03m# assetion to check if the image is of the right size\u001b[39;00m\n",
      "\u001b[1;31mTypeError\u001b[0m: expected Tensor as element 0 in argument 0, but got numpy.ndarray"
     ]
    }
   ],
   "source": [
    "# now load the model\n",
    "unet = Unet()\n",
    "\n",
    "# send input image to the model\n",
    "output_img = unet(input_img, process_image = True)"
   ]
  },
  {
   "cell_type": "code",
   "execution_count": 56,
   "metadata": {},
   "outputs": [],
   "source": [
    "# # Load an image with path\n",
    "# image_path = \"..\\\\test\\\\input\\\\IMG_0106.png\"\n",
    "\n",
    "# # Load image\n",
    "# image = Image.open(image_path)\n",
    "\n",
    "# # Show original image\n",
    "# plt.imshow(image)\n",
    "# plt.title(\"Original Image\")\n",
    "# plt.axis(\"off\")\n",
    "# plt.show()\n",
    "\n",
    "# # Preprocess image\n",
    "# preprocessed_image = image_processor(image)['pixel_values'][0]\n",
    "\n",
    "# # Transpose the NumPy array\n",
    "# # preprocessed_image = preprocessed_image.transpose((1, 2, 0))\n",
    "\n",
    "# print(\"Preprocessed image shape: \", preprocessed_image.shape)\n",
    "\n",
    "# # Show preprocessed image\n",
    "# plt.imshow(preprocessed_image.transpose((1, 2, 0)))\n",
    "# plt.title(\"Preprocessed Image\")\n",
    "# plt.axis(\"off\")\n",
    "# plt.show()"
   ]
  },
  {
   "cell_type": "code",
   "execution_count": null,
   "metadata": {},
   "outputs": [],
   "source": []
  }
 ],
 "metadata": {
  "kernelspec": {
   "display_name": "Python 3",
   "language": "python",
   "name": "python3"
  },
  "language_info": {
   "codemirror_mode": {
    "name": "ipython",
    "version": 3
   },
   "file_extension": ".py",
   "mimetype": "text/x-python",
   "name": "python",
   "nbconvert_exporter": "python",
   "pygments_lexer": "ipython3",
   "version": "3.11.3"
  }
 },
 "nbformat": 4,
 "nbformat_minor": 2
}
