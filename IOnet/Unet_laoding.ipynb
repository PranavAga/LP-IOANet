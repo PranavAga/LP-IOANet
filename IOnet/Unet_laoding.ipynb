{
 "cells": [
  {
   "cell_type": "code",
   "execution_count": 1,
   "metadata": {},
   "outputs": [
    {
     "name": "stderr",
     "output_type": "stream",
     "text": [
      "c:\\Program Files\\Python311\\Lib\\site-packages\\tqdm\\auto.py:21: TqdmWarning: IProgress not found. Please update jupyter and ipywidgets. See https://ipywidgets.readthedocs.io/en/stable/user_install.html\n",
      "  from .autonotebook import tqdm as notebook_tqdm\n"
     ]
    }
   ],
   "source": [
    "# import lib\n",
    "import numpy as np\n",
    "import matplotlib.pyplot as plt\n",
    "import pandas as pd\n",
    "import math\n",
    "import tqdm\n",
    "from tqdm.auto import trange, tqdm\n",
    "\n",
    "# import pytorch\n",
    "import torch\n",
    "import torch.nn as nn\n",
    "import torch.nn.functional as F\n",
    "import torch.optim as optim\n",
    "from torch.utils.data import DataLoader, Dataset\n",
    "\n",
    "# to get CFIAR10 dataset\n",
    "from torchvision import transforms\n",
    "import torchvision\n",
    "import torchvision.transforms as transforms\n",
    "\n",
    "# to import pretrained models\n",
    "from transformers import AutoImageProcessor, MobileNetV1Model\n",
    "import timm\n",
    "\n",
    "# import sklearn\n",
    "from sklearn.model_selection import train_test_split\n",
    "\n",
    "# set up device\n",
    "device = torch.device(\"cuda\" if torch.cuda.is_available() else \"cpu\")"
   ]
  },
  {
   "cell_type": "markdown",
   "metadata": {},
   "source": [
    "---\n",
    "## Encoder layer"
   ]
  },
  {
   "cell_type": "code",
   "execution_count": 2,
   "metadata": {},
   "outputs": [
    {
     "name": "stdout",
     "output_type": "stream",
     "text": [
      "Encoder blocks len:  5\n",
      "Image stem layer:  MobileNetV1ConvLayer(\n",
      "  (convolution): Conv2d(3, 32, kernel_size=(3, 3), stride=(2, 2), bias=False)\n",
      "  (normalization): BatchNorm2d(32, eps=0.001, momentum=0.9997, affine=True, track_running_stats=True)\n",
      "  (activation): ReLU6()\n",
      ")\n",
      "Image processor:  MobileNetV1ImageProcessor {\n",
      "  \"_valid_processor_keys\": [\n",
      "    \"images\",\n",
      "    \"do_resize\",\n",
      "    \"size\",\n",
      "    \"resample\",\n",
      "    \"do_center_crop\",\n",
      "    \"crop_size\",\n",
      "    \"do_rescale\",\n",
      "    \"rescale_factor\",\n",
      "    \"do_normalize\",\n",
      "    \"image_mean\",\n",
      "    \"image_std\",\n",
      "    \"return_tensors\",\n",
      "    \"data_format\",\n",
      "    \"input_data_format\"\n",
      "  ],\n",
      "  \"crop_size\": {\n",
      "    \"height\": 224,\n",
      "    \"width\": 224\n",
      "  },\n",
      "  \"do_center_crop\": true,\n",
      "  \"do_normalize\": true,\n",
      "  \"do_rescale\": true,\n",
      "  \"do_resize\": true,\n",
      "  \"image_mean\": [\n",
      "    0.5,\n",
      "    0.5,\n",
      "    0.5\n",
      "  ],\n",
      "  \"image_processor_type\": \"MobileNetV1ImageProcessor\",\n",
      "  \"image_std\": [\n",
      "    0.5,\n",
      "    0.5,\n",
      "    0.5\n",
      "  ],\n",
      "  \"resample\": 2,\n",
      "  \"rescale_factor\": 0.00392156862745098,\n",
      "  \"size\": {\n",
      "    \"shortest_edge\": 256\n",
      "  }\n",
      "}\n",
      "\n"
     ]
    }
   ],
   "source": [
    "from get_layers import get_encoder_layers\n",
    "\n",
    "# get encoder layers\n",
    "encoder_blocks, image_stem_layer, image_processor = get_encoder_layers()\n",
    "\n",
    "print(\"Encoder blocks len: \", len(encoder_blocks))\n",
    "print(\"Image stem layer: \", image_stem_layer)\n",
    "print(\"Image processor: \", image_processor)"
   ]
  },
  {
   "cell_type": "markdown",
   "metadata": {},
   "source": [
    "---\n",
    "## Decoder layer"
   ]
  },
  {
   "cell_type": "code",
   "execution_count": 3,
   "metadata": {},
   "outputs": [
    {
     "name": "stdout",
     "output_type": "stream",
     "text": [
      "Alert: skip connection is not implemented in the decoder block\n"
     ]
    },
    {
     "data": {
      "text/plain": [
       "DecoderBlock(\n",
       "  (relu): ReLU(inplace=True)\n",
       "  (cnn1): Conv2d(512, 1536, kernel_size=(1, 1), stride=(1, 1))\n",
       "  (bnn1): BatchNorm2d(1536, eps=1e-05, momentum=0.1, affine=True, track_running_stats=True)\n",
       "  (upsample): Upsample(scale_factor=2.0, mode='nearest')\n",
       "  (cnn2): Conv2d(1536, 1536, kernel_size=(5, 5), stride=(1, 1), padding=(2, 2))\n",
       "  (bnn2): BatchNorm2d(1536, eps=1e-05, momentum=0.1, affine=True, track_running_stats=True)\n",
       "  (cnn3): Conv2d(1536, 256, kernel_size=(1, 1), stride=(1, 1))\n",
       "  (bnn3): BatchNorm2d(256, eps=1e-05, momentum=0.1, affine=True, track_running_stats=True)\n",
       ")"
      ]
     },
     "execution_count": 3,
     "metadata": {},
     "output_type": "execute_result"
    }
   ],
   "source": [
    "from get_layers import DecoderBlock\n",
    "\n",
    "dec90 = DecoderBlock(512, 256)\n",
    "\n",
    "dec90"
   ]
  },
  {
   "cell_type": "code",
   "execution_count": 4,
   "metadata": {},
   "outputs": [
    {
     "name": "stdout",
     "output_type": "stream",
     "text": [
      "Alert: skip connection is not implemented in the decoder block\n",
      "Alert: skip connection is not implemented in the decoder block\n",
      "Alert: skip connection is not implemented in the decoder block\n",
      "Alert: skip connection is not implemented in the decoder block\n",
      "Alert: skip connection is not implemented in the decoder block\n"
     ]
    }
   ],
   "source": [
    "dec_4_block = DecoderBlock(1024, 512)\n",
    "dec_3_block = DecoderBlock(512+512, 256)\n",
    "dec_2_block = DecoderBlock(256+256, 128)\n",
    "dec_1_block = DecoderBlock(128+128, 64)\n",
    "dec_0_block = DecoderBlock(64+64, 32)"
   ]
  },
  {
   "cell_type": "markdown",
   "metadata": {},
   "source": [
    "----\n",
    "## Unet dry run"
   ]
  },
  {
   "cell_type": "code",
   "execution_count": 6,
   "metadata": {},
   "outputs": [
    {
     "name": "stdout",
     "output_type": "stream",
     "text": [
      "Image stem layer output:  torch.Size([1, 32, 112, 112])\n",
      "Encoder block 0 | output shape: torch.Size([1, 64, 112, 112])\n",
      "Encoder block 1 | output shape: torch.Size([1, 128, 56, 56])\n",
      "Encoder block 2 | output shape: torch.Size([1, 256, 28, 28])\n",
      "Encoder block 3 | output shape: torch.Size([1, 512, 14, 14])\n",
      "Encoder block 4 | output shape: torch.Size([1, 1024, 7, 7])\n",
      "Last encoder block output shape:  torch.Size([1, 1024, 7, 7])\n"
     ]
    }
   ],
   "source": [
    "input_rand_image = torch.rand((1, 3, 224, 224))\n",
    "\n",
    "output = image_stem_layer(input_rand_image)\n",
    "print(\"Image stem layer output: \", output.shape)\n",
    "\n",
    "enc_outputs = []\n",
    "\n",
    "# run on each encoder block\n",
    "for indx, enc_block in enumerate(encoder_blocks):\n",
    "    output = enc_block(output)\n",
    "    enc_outputs.append(output)\n",
    "    print(f\"Encoder block {indx} | output shape: {output.shape}\")\n",
    "    \n",
    "# last encoder block to dec \n",
    "# print input and output shapes\n",
    "print(\"Last encoder block output shape: \", output.shape)\n",
    "\n",
    "# run on each decoder block\n",
    "output = dec_4_block(output)\n",
    "print(\"Decoder block 4 | output shape: \", output.shape)\n",
    "\n",
    "output = dec_3_block(torch.cat([output, enc_outputs[3]], dim=1))\n",
    "print(\"Decoder block 3 | output shape: \", output.shape)\n",
    "\n",
    "output = dec_2_block(torch.cat([output, enc_outputs[2]], dim=1))\n",
    "print(\"Decoder block 2 | output shape: \", output.shape)\n",
    "\n",
    "# print(\"Encoder block 1 shape: \", enc_outputs[1].shape)\n",
    "# print(\"cat shape: \", torch.cat([output, enc_outputs[1]], dim=1).shape)\n",
    "output = dec_1_block(torch.cat([output, enc_outputs[1]], dim=1))\n",
    "print(\"Decoder block 1 | output shape: \", output.shape)\n",
    "\n",
    "output = dec_0_block(torch.cat([output, enc_outputs[0]], dim=1))\n",
    "print(\"Decoder block 0 | output shape: \", output.shape)\n"
   ]
  },
  {
   "cell_type": "code",
   "execution_count": null,
   "metadata": {},
   "outputs": [],
   "source": []
  }
 ],
 "metadata": {
  "kernelspec": {
   "display_name": "Python 3",
   "language": "python",
   "name": "python3"
  },
  "language_info": {
   "codemirror_mode": {
    "name": "ipython",
    "version": 3
   },
   "file_extension": ".py",
   "mimetype": "text/x-python",
   "name": "python",
   "nbconvert_exporter": "python",
   "pygments_lexer": "ipython3",
   "version": "3.11.3"
  }
 },
 "nbformat": 4,
 "nbformat_minor": 2
}
