{
 "cells": [
  {
   "cell_type": "code",
   "execution_count": null,
   "metadata": {},
   "outputs": [],
   "source": [
    "# import lib\n",
    "import numpy as np\n",
    "import matplotlib.pyplot as plt\n",
    "import pandas as pd\n",
    "import math\n",
    "import tqdm\n",
    "# from tqdm.auto import trange, tqdm\n",
    "import os\n",
    "\n",
    "# import pytorch\n",
    "import torch\n",
    "import torch.nn as nn\n",
    "import torch.nn.functional as F\n",
    "import torch.optim as optim\n",
    "from torch.utils.data import DataLoader, Dataset\n",
    "\n",
    "# to get CFIAR10 dataset\n",
    "from torchvision import transforms\n",
    "import torchvision\n",
    "import torchvision.transforms as transforms\n",
    "\n",
    "# to import pretrained models\n",
    "from transformers import AutoImageProcessor, MobileNetV1Model\n",
    "import timm\n",
    "\n",
    "# import sklearn\n",
    "from sklearn.model_selection import train_test_split\n",
    "from PIL import Image\n",
    "\n",
    "\n",
    "# set up device\n",
    "device = torch.device(\"cuda\" if torch.cuda.is_available() else \"cpu\")"
   ]
  },
  {
   "cell_type": "markdown",
   "metadata": {},
   "source": [
    "---\n",
    "## Encoder layer"
   ]
  },
  {
   "cell_type": "code",
   "execution_count": null,
   "metadata": {},
   "outputs": [],
   "source": [
    "from get_layers import get_encoder_layers\n",
    "\n",
    "# get encoder layers\n",
    "encoder_blocks, image_stem_layer, image_processor = get_encoder_layers()\n",
    "\n",
    "print(\"Encoder blocks len: \", len(encoder_blocks))\n",
    "print(\"Image stem layer: \", image_stem_layer)\n",
    "print(\"Image processor: \", image_processor)"
   ]
  },
  {
   "cell_type": "markdown",
   "metadata": {},
   "source": [
    "---\n",
    "## Decoder layer"
   ]
  },
  {
   "cell_type": "code",
   "execution_count": null,
   "metadata": {},
   "outputs": [],
   "source": [
    "from get_layers import get_get_decoder_layers\n",
    "\n",
    "get_decoder_layers = get_get_decoder_layers()\n",
    "\n",
    "len(get_decoder_layers)"
   ]
  },
  {
   "cell_type": "code",
   "execution_count": null,
   "metadata": {},
   "outputs": [],
   "source": [
    "# print in and out channels of each decoder block\n",
    "for i, block in enumerate(get_decoder_layers):\n",
    "    print(f\"Decoder block {i}: {block.cnn1.in_channels} -> {block.cnn3.out_channels}\")"
   ]
  },
  {
   "cell_type": "markdown",
   "metadata": {},
   "source": [
    "---\n",
    "## Unet architecture"
   ]
  },
  {
   "cell_type": "code",
   "execution_count": null,
   "metadata": {},
   "outputs": [],
   "source": [
    "class Unet(nn.Module):\n",
    "    def __init__(self):\n",
    "        '''\n",
    "\t        Unet model\n",
    "        '''\n",
    "        super(Unet, self).__init__()\n",
    "        # get encoder layers\n",
    "        encoder_blocks, image_stem_layer, image_processor = get_encoder_layers()\n",
    "        # get decoder layers\n",
    "        get_decoder_layers = get_get_decoder_layers()\n",
    "        \n",
    "        print(len(encoder_blocks))\n",
    "        print(len(get_decoder_layers))\n",
    "        \n",
    "        raise Exception(\"stop here\")\n",
    "        \n",
    "        self.encoder_blocks = encoder_blocks\n",
    "        self.image_stem_layer = image_stem_layer\n",
    "        self.image_processor = image_processor\n",
    "        \n",
    "        self.get_decoder_layers = get_decoder_layers\n",
    "        \n",
    "    def forward(self, x, process_image = False):\n",
    "        '''\n",
    "\t        Forward pass\n",
    "\t        x: input image (ideally should be of shape (batch_size, 3, 224, 224))\n",
    "\t\t\tprocess_image: whether to process image or not to the appropriate size\n",
    "        '''\n",
    "        # asset x is a tensor\n",
    "        assert isinstance(x, torch.Tensor), \"Input should be a tensor\"\n",
    "        if process_image:\n",
    "            new_x = []\n",
    "            for img in x:\n",
    "                img = self.image_processor(img)['pixel_values'][0]\n",
    "                new_x.append(img)\n",
    "            x = torch.stack(new_x)\n",
    "            x = x.permute(0, 3, 1, 2)\n",
    "            \n",
    "        # assetion to check if the image is of the right size\n",
    "        assert x.shape[2] == 224 and x.shape[3] == 224, \"Image size should be 224x224\"\n",
    "        \n",
    "        x = image_stem_layer(x)\n",
    "        print(\"Image stem layer output shape: \", x.shape)\n",
    "        \n",
    "        enc_outputs = []\n",
    "        # run on each encoder block\n",
    "        for indx, enc_block in enumerate(self.encoder_blocks):\n",
    "            x = enc_block(x)\n",
    "            enc_outputs.append(x)\n",
    "            # print(f\"Encoder block {indx} | output shape: {x.shape}\")\n",
    "            \n",
    "        # last encoder block to dec \n",
    "        # print input and output shapes\n",
    "        # print(\"\\nLast encoder block output shape: \", x.shape)\n",
    "        # print()\n",
    "        \n",
    "        for indx, dec_block in enumerate(self.get_decoder_layers):\n",
    "            if indx == 0:\n",
    "                x = dec_block(x)\n",
    "                # print(f\"Decoder block {indx} | output shape: {x.shape}\")\n",
    "            else:\n",
    "                x = dec_block(torch.cat([x, enc_outputs[len(self.get_decoder_layers) - indx - 1]], dim=1))\n",
    "                # print(f\"Decoder block {indx} | output shape: {x.shape}\")\n",
    "        \n",
    "        return x"
   ]
  },
  {
   "cell_type": "code",
   "execution_count": null,
   "metadata": {},
   "outputs": [],
   "source": [
    "unet = Unet()\n",
    "\n",
    "# random input\n",
    "x = torch.randn(1, 3, 224, 224)\n",
    "\n",
    "# forward pass\n",
    "y = unet(x)\n",
    "\n",
    "# print output shape\n",
    "print(y.shape)"
   ]
  },
  {
   "cell_type": "code",
   "execution_count": null,
   "metadata": {},
   "outputs": [],
   "source": [
    "# now load the model\n",
    "unet = Unet()\n",
    "\n",
    "# send input image to the model\n",
    "output_img = unet(input_img, process_image = True)"
   ]
  },
  {
   "cell_type": "code",
   "execution_count": null,
   "metadata": {},
   "outputs": [],
   "source": [
    "# # Load an image with path\n",
    "# image_path = \"..\\\\test\\\\input\\\\IMG_0106.png\"\n",
    "\n",
    "# # Load image\n",
    "# image = Image.open(image_path)\n",
    "\n",
    "# # Show original image\n",
    "# plt.imshow(image)\n",
    "# plt.title(\"Original Image\")\n",
    "# plt.axis(\"off\")\n",
    "# plt.show()\n",
    "\n",
    "# # Preprocess image\n",
    "# preprocessed_image = image_processor(image)['pixel_values'][0]\n",
    "\n",
    "# # Transpose the NumPy array\n",
    "# # preprocessed_image = preprocessed_image.transpose((1, 2, 0))\n",
    "\n",
    "# print(\"Preprocessed image shape: \", preprocessed_image.shape)\n",
    "\n",
    "# # Show preprocessed image\n",
    "# plt.imshow(preprocessed_image.transpose((1, 2, 0)))\n",
    "# plt.title(\"Preprocessed Image\")\n",
    "# plt.axis(\"off\")\n",
    "# plt.show()"
   ]
  },
  {
   "cell_type": "code",
   "execution_count": null,
   "metadata": {},
   "outputs": [],
   "source": []
  }
 ],
 "metadata": {
  "kernelspec": {
   "display_name": "Python 3",
   "language": "python",
   "name": "python3"
  },
  "language_info": {
   "codemirror_mode": {
    "name": "ipython",
    "version": 3
   },
   "file_extension": ".py",
   "mimetype": "text/x-python",
   "name": "python",
   "nbconvert_exporter": "python",
   "pygments_lexer": "ipython3",
   "version": "3.11.3"
  }
 },
 "nbformat": 4,
 "nbformat_minor": 2
}
