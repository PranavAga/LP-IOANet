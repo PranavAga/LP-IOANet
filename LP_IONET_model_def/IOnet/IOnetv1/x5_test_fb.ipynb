{
 "cells": [
  {
   "cell_type": "code",
   "execution_count": 3,
   "metadata": {},
   "outputs": [],
   "source": [
    "import torch\n",
    "import torch.nn as nn"
   ]
  },
  {
   "cell_type": "code",
   "execution_count": 21,
   "metadata": {},
   "outputs": [],
   "source": [
    "class DecoderBlock(nn.Module):\n",
    "\tdef __init__(self, in_channels, out_channels, expansion=3, do_up_sampling=True):\n",
    "\t\t\"\"\"\n",
    "\t\tDecoder block module.\n",
    "\n",
    "\t\tArgs:\n",
    "\t\t\tin_channels (int): Number of input channels.\n",
    "\t\t\tout_channels (int): Number of output channels.\n",
    "\t\t\texpansion (int, optional): Expansion factor. Default is 3.\n",
    "\t\t\"\"\"\n",
    "\t\tsuper(DecoderBlock, self).__init__()\n",
    "\t\tself.relu = nn.ReLU(inplace=True)\n",
    "\n",
    "\t\tself.cnn1 = nn.Conv2d(in_channels, in_channels *\n",
    "\t\t\t\t\t\t\t  expansion, kernel_size=1, stride=1)\n",
    "\t\tself.bnn1 = nn.BatchNorm2d(in_channels*expansion)\n",
    "\n",
    "\t\t# nearest neighbor x2\n",
    "\t\tself.do_up_sampling = do_up_sampling\n",
    "\t\tself.upsample = nn.Upsample(scale_factor=2, mode='nearest')\n",
    "\n",
    "\t\t# DW conv/ c_in*exp x 5 x 5 x c_in*exp\n",
    "\t\tself.cnn2 = nn.Conv2d(in_channels*expansion, in_channels *\n",
    "\t\t\t\t\t\t\t  expansion, kernel_size=5, padding=2, stride=1)\n",
    "\t\tself.bnn2 = nn.BatchNorm2d(in_channels*expansion)\n",
    "\n",
    "\t\tself.cnn3 = nn.Conv2d(in_channels*expansion,\n",
    "\t\t\t\t\t\t\t  out_channels, kernel_size=1, stride=1)\n",
    "\t\tself.bnn3 = nn.BatchNorm2d(out_channels)\n",
    "\t\t\n",
    "\t\tself.skip_cnn = nn.Conv2d(in_channels, out_channels, kernel_size=1, stride=1)\n",
    "\n",
    "\tdef forward(self, x):\n",
    "\t\t\"\"\"\n",
    "\t\tForward pass through the decoder block.\n",
    "\n",
    "\t\tArgs:\n",
    "\t\t\tx (torch.Tensor): Input tensor.\n",
    "\n",
    "\t\tReturns:\n",
    "\t\t\ttorch.Tensor: Output tensor.\n",
    "\t\t\"\"\"\n",
    "\t\tprint(\"DecoderBlock\")\n",
    "\t\tprint(\"input shape: \", x.shape)\n",
    "\t\ttemp_x = x\n",
    "\t\tx = self.cnn1(x)\n",
    "\t\tx = self.bnn1(x)\n",
    "\t\tx = self.relu(x)\n",
    "  \n",
    "\t\tprint(\"cnn1 shape: \", x.shape)\n",
    "   \n",
    "\t\tprint(\"upsample shape: \", x.shape)\n",
    "\t\t\t\n",
    "\t\tx = self.cnn2(x)\n",
    "\t\tx = self.bnn2(x)\n",
    "\t\tx = self.relu(x)\n",
    "  \n",
    "\t\tprint(\"cnn2 shape: \", x.shape)\n",
    "\t\t\n",
    "\t\tx = self.cnn3(x)\n",
    "\t\tx = self.bnn3(x)\n",
    "\t\t\n",
    "\t\t(\"cnn3 shape: \", x.shape)\n",
    "  \n",
    "\t\t# adding skip connection\n",
    "\t\ttemp_x = self.skip_cnn(temp_x)\n",
    "\n",
    "\t\tprint(\"skip shape: \", temp_x.shape)\n",
    "  \n",
    "\t\tx = x + temp_x\n",
    "  \n",
    "\t\tprint(\"output shape: \", x.shape)\n",
    "  \n",
    "\t\tif self.do_up_sampling:\n",
    "\t\t\tx = self.upsample(x)\n",
    "  \n",
    "\t\treturn x"
   ]
  },
  {
   "cell_type": "code",
   "execution_count": 22,
   "metadata": {},
   "outputs": [
    {
     "name": "stdout",
     "output_type": "stream",
     "text": [
      "DecoderBlock\n",
      "input shape:  torch.Size([1, 512, 16, 16])\n",
      "cnn1 shape:  torch.Size([1, 1536, 16, 16])\n",
      "upsample shape:  torch.Size([1, 1536, 16, 16])\n",
      "cnn2 shape:  torch.Size([1, 1536, 16, 16])\n",
      "skip shape:  torch.Size([1, 256, 16, 16])\n",
      "output shape:  torch.Size([1, 256, 16, 16])\n"
     ]
    }
   ],
   "source": [
    "model_x = DecoderBlock(512, 256, 3)\n",
    "\n",
    "input = torch.randn(1, 512, 16, 16)\n",
    "output = model_x(input)\n",
    "\n",
    "assert output.shape == (1, 256, 32, 32)"
   ]
  },
  {
   "cell_type": "code",
   "execution_count": 24,
   "metadata": {},
   "outputs": [
    {
     "name": "stdout",
     "output_type": "stream",
     "text": [
      "DecoderBlock\n",
      "input shape:  torch.Size([1, 128, 160, 160])\n",
      "cnn1 shape:  torch.Size([1, 384, 160, 160])\n",
      "upsample shape:  torch.Size([1, 384, 160, 160])\n",
      "cnn2 shape:  torch.Size([1, 384, 160, 160])\n",
      "skip shape:  torch.Size([1, 32, 160, 160])\n",
      "output shape:  torch.Size([1, 32, 160, 160])\n"
     ]
    }
   ],
   "source": [
    "model_x = DecoderBlock(32*4, 32, 3, do_up_sampling=False)\n",
    "\n",
    "input = torch.randn(1, 32*4, 160, 160)\n",
    "output = model_x(input)\n",
    "\n",
    "assert output.shape == (1, 32, 160, 160)"
   ]
  },
  {
   "cell_type": "code",
   "execution_count": 25,
   "metadata": {},
   "outputs": [
    {
     "name": "stdout",
     "output_type": "stream",
     "text": [
      "DecoderBlock\n",
      "input shape:  torch.Size([1, 128, 160, 160])\n",
      "cnn1 shape:  torch.Size([1, 384, 160, 160])\n",
      "upsample shape:  torch.Size([1, 384, 160, 160])\n"
     ]
    },
    {
     "name": "stdout",
     "output_type": "stream",
     "text": [
      "cnn2 shape:  torch.Size([1, 384, 160, 160])\n",
      "skip shape:  torch.Size([1, 32, 160, 160])\n",
      "output shape:  torch.Size([1, 32, 160, 160])\n"
     ]
    }
   ],
   "source": [
    "model_y = DecoderBlock(4 * 32, 32, 3, do_up_sampling=False)\n",
    "\n",
    "input = torch.randn(1, 4 * 32, 160, 160)\n",
    "output = model_y(input)\n",
    "\n",
    "assert output.shape == (1, 32, 160, 160)"
   ]
  },
  {
   "cell_type": "code",
   "execution_count": null,
   "metadata": {},
   "outputs": [],
   "source": []
  },
  {
   "cell_type": "code",
   "execution_count": null,
   "metadata": {},
   "outputs": [],
   "source": []
  }
 ],
 "metadata": {
  "kernelspec": {
   "display_name": "base",
   "language": "python",
   "name": "python3"
  },
  "language_info": {
   "codemirror_mode": {
    "name": "ipython",
    "version": 3
   },
   "file_extension": ".py",
   "mimetype": "text/x-python",
   "name": "python",
   "nbconvert_exporter": "python",
   "pygments_lexer": "ipython3",
   "version": "3.12.2"
  }
 },
 "nbformat": 4,
 "nbformat_minor": 2
}
